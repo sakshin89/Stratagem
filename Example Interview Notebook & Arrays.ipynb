{
 "cells": [
  {
   "cell_type": "markdown",
   "metadata": {},
   "source": [
    "# Add 2 Numbers\n",
    "## Problem\n",
    "Add 2 numbers together"
   ]
  },
  {
   "cell_type": "code",
   "execution_count": null,
   "metadata": {},
   "outputs": [],
   "source": [
    "def Solution(num1,num2):\n",
    "    return num1+num2"
   ]
  },
  {
   "cell_type": "code",
   "execution_count": null,
   "metadata": {},
   "outputs": [],
   "source": [
    "from nose.tools import assert_equal\n",
    "\n",
    "class SolutionTest(object):\n",
    "    def test(self,sol):\n",
    "        assert_equal(sol(4,4),8)\n",
    "        print('All Tcs Passed')"
   ]
  },
  {
   "cell_type": "code",
   "execution_count": null,
   "metadata": {},
   "outputs": [],
   "source": [
    "t=SolutionTest()"
   ]
  },
  {
   "cell_type": "code",
   "execution_count": null,
   "metadata": {},
   "outputs": [],
   "source": [
    "t.test(Solution)"
   ]
  },
  {
   "cell_type": "code",
   "execution_count": null,
   "metadata": {},
   "outputs": [],
   "source": [
    "mylst=['new']*5\n",
    "mylstextra=['extra']\n",
    "mylst.extend(mylstextra)\n",
    "mylst"
   ]
  },
  {
   "cell_type": "markdown",
   "metadata": {},
   "source": [
    "# ARRAY INTERVIEW PROBLEMS\n",
    "## Anagram Check\n",
    "### (An anagram is when the two strings can be written using the exact same letters (so you can just rearrange the letters to get a different phrase or word)."
   ]
  },
  {
   "cell_type": "code",
   "execution_count": null,
   "metadata": {},
   "outputs": [],
   "source": [
    "def Anagram(str1,str2):\n",
    "    str1=(str1.replace(\" \",\"\")).lower()\n",
    "    str2=(str2.replace(\" \",\"\")).lower()\n",
    "    for s in str1:\n",
    "        if s not in str2:\n",
    "            return False\n",
    "            break\n",
    "    else:\n",
    "        return True"
   ]
  },
  {
   "cell_type": "code",
   "execution_count": null,
   "metadata": {},
   "outputs": [],
   "source": [
    "Anagram('g e e k','e k')"
   ]
  },
  {
   "cell_type": "code",
   "execution_count": null,
   "metadata": {},
   "outputs": [],
   "source": [
    "Anagram('public relations','crap built on lies')"
   ]
  },
  {
   "cell_type": "code",
   "execution_count": null,
   "metadata": {},
   "outputs": [],
   "source": [
    "Anagram()"
   ]
  },
  {
   "cell_type": "code",
   "execution_count": null,
   "metadata": {},
   "outputs": [],
   "source": [
    "Anagram('d go','God')"
   ]
  },
  {
   "cell_type": "markdown",
   "metadata": {},
   "source": [
    "### Test case to verify Anagram function"
   ]
  },
  {
   "cell_type": "code",
   "execution_count": null,
   "metadata": {},
   "outputs": [],
   "source": [
    "from nose.tools import assert_equal\n",
    "\n",
    "class anagramTest(object):\n",
    "    def aTest(self,ana):\n",
    "        assert_equal(ana('g e e k','e k'),False)\n",
    "        assert_equal(ana('public relations','crap built on lies'),True)\n",
    "        assert_equal(ana('clint eastwood','old west action'),True)\n",
    "        assert_equal(ana('d go','God'),True)\n",
    "        print('All Tcs Passed')"
   ]
  },
  {
   "cell_type": "code",
   "execution_count": null,
   "metadata": {},
   "outputs": [],
   "source": [
    "at=anagramTest()\n",
    "at.aTest(Anagram)"
   ]
  },
  {
   "cell_type": "markdown",
   "metadata": {},
   "source": [
    "## Array Pair Sum"
   ]
  },
  {
   "cell_type": "code",
   "execution_count": null,
   "metadata": {},
   "outputs": [],
   "source": [
    "def ArrayPairSum(arr,k):\n",
    "    i=0\n",
    "    ctr=0\n",
    "    while i<len(arr)-1:\n",
    "        j=i+1\n",
    "        while j<len(arr):\n",
    "            if arr[i]+arr[j]==k:\n",
    "                tup=(arr[i],arr[j])\n",
    "                print('Pair:',tup)\n",
    "                arr.pop(j)\n",
    "                arr.pop(i)\n",
    "                tup=()\n",
    "                i=0\n",
    "                ctr+=1\n",
    "                break\n",
    "            else:\n",
    "                j+=1\n",
    "                if j==len(arr):\n",
    "                    i+=1  \n",
    "    return ctr"
   ]
  },
  {
   "cell_type": "code",
   "execution_count": null,
   "metadata": {},
   "outputs": [],
   "source": [
    "ArrayPairSum([1,2,5,2],6)"
   ]
  },
  {
   "cell_type": "markdown",
   "metadata": {},
   "source": [
    "### Test case for Array Pair Sum"
   ]
  },
  {
   "cell_type": "code",
   "execution_count": null,
   "metadata": {},
   "outputs": [],
   "source": [
    "from nose.tools import assert_equal\n",
    "\n",
    "class arrayPairSumTest(object):\n",
    "    def apsTest(self,aps):\n",
    "        assert_equal(aps([1,3,2,2],4),2)\n",
    "        assert_equal(aps([1,2,5,2],6),1)\n",
    "        print('All Tcs Passed')"
   ]
  },
  {
   "cell_type": "code",
   "execution_count": null,
   "metadata": {},
   "outputs": [],
   "source": [
    "aps=arrayPairSumTest()\n",
    "aps.apsTest(ArrayPairSum)"
   ]
  },
  {
   "cell_type": "markdown",
   "metadata": {},
   "source": [
    "## Find Missing Element"
   ]
  },
  {
   "cell_type": "code",
   "execution_count": null,
   "metadata": {},
   "outputs": [],
   "source": [
    "#METHOD 1\n",
    "def Finder(arr1,arr2):\n",
    "    for x in arr1:\n",
    "        if x not in arr2:\n",
    "            print(x,'is the missing number')\n",
    "        else:\n",
    "            arr2.remove(x)"
   ]
  },
  {
   "cell_type": "code",
   "execution_count": null,
   "metadata": {},
   "outputs": [],
   "source": [
    "#Method 2\n",
    "def Finder2(arr1,arr2):\n",
    "    num = 0\n",
    "    for n in arr1:\n",
    "        num += n\n",
    "    for n in arr2:\n",
    "        num -= n\n",
    "    return num\n",
    "    pass"
   ]
  },
  {
   "cell_type": "code",
   "execution_count": null,
   "metadata": {},
   "outputs": [],
   "source": [
    "Finder2([1,2,3,4,5,6,7],[3,7,2,1,4,6])"
   ]
  },
  {
   "cell_type": "code",
   "execution_count": null,
   "metadata": {},
   "outputs": [],
   "source": [
    "Finder2([5,5,7,7],[5,7,7])"
   ]
  },
  {
   "cell_type": "markdown",
   "metadata": {},
   "source": [
    "## Largest Continious Sum\n",
    "### Check the number ot be added in sum of previoes numbers is greater or sum is greateer"
   ]
  },
  {
   "cell_type": "code",
   "execution_count": null,
   "metadata": {},
   "outputs": [],
   "source": [
    "def LargestContinousSum(arr):\n",
    "    max_sum=sum=arr[0]\n",
    "    for a in arr[1:]:\n",
    "        sum=max(sum+a,a)\n",
    "        max_sum=max(max_sum,sum)\n",
    "    return max_sum"
   ]
  },
  {
   "cell_type": "code",
   "execution_count": null,
   "metadata": {},
   "outputs": [],
   "source": [
    "LargestContinousSum([1,2,-1,3,4,10,10,-10,-1])"
   ]
  },
  {
   "cell_type": "markdown",
   "metadata": {},
   "source": [
    "## Sentence Reversal"
   ]
  },
  {
   "cell_type": "code",
   "execution_count": null,
   "metadata": {},
   "outputs": [],
   "source": [
    "def SentenceReversal(sent):\n",
    "    return \" \".join(reversed(sent.split()))"
   ]
  },
  {
   "cell_type": "code",
   "execution_count": null,
   "metadata": {},
   "outputs": [],
   "source": [
    "SentenceReversal('My name is Sakshi')"
   ]
  },
  {
   "cell_type": "code",
   "execution_count": null,
   "metadata": {},
   "outputs": [],
   "source": [
    "SentenceReversal('    space before')"
   ]
  },
  {
   "cell_type": "code",
   "execution_count": null,
   "metadata": {},
   "outputs": [],
   "source": [
    "SentenceReversal('   Hello John    how are you   ')"
   ]
  },
  {
   "cell_type": "markdown",
   "metadata": {},
   "source": [
    "## String Compression"
   ]
  },
  {
   "cell_type": "code",
   "execution_count": 75,
   "metadata": {},
   "outputs": [],
   "source": [
    "# Method 1\n",
    "from collections import Counter\n",
    "\n",
    "def StringCompression(mystr):\n",
    "    my_dict= dict(Counter(mystr))\n",
    "    mystr=''\n",
    "    for x,y in my_dict.items():\n",
    "        mystr=mystr+x+str(y)\n",
    "        \n",
    "    print(mystr)"
   ]
  },
  {
   "cell_type": "code",
   "execution_count": 76,
   "metadata": {},
   "outputs": [
    {
     "name": "stdout",
     "output_type": "stream",
     "text": [
      "A2a1b1j1h1f1d2\n"
     ]
    }
   ],
   "source": [
    "StringCompression('AAabjhfdd')"
   ]
  },
  {
   "cell_type": "code",
   "execution_count": 69,
   "metadata": {},
   "outputs": [],
   "source": [
    "q = {'Name': 'Zara', 'Age': 7, 'Class': 'First'}\n",
    "q.get(0)"
   ]
  },
  {
   "cell_type": "code",
   "execution_count": 7,
   "metadata": {},
   "outputs": [
    {
     "name": "stdout",
     "output_type": "stream",
     "text": [
      "A2a1b1j1h2f1\n"
     ]
    }
   ],
   "source": [
    "# Method 2\n",
    "\n",
    "s='AAabjhhfd'\n",
    "#my_list=[]\n",
    "#my_dict={}\n",
    "ctr=1\n",
    "x=0\n",
    "mystr=''\n",
    "while x<len(s)-1:\n",
    "    y=x+1\n",
    "    while y<len(s):\n",
    "        while s[x]==s[y]:\n",
    "            ctr+=1\n",
    "            y+=1\n",
    "        if ctr!=1:\n",
    "            mystr=mystr+s[x]+str(ctr)\n",
    "        else:\n",
    "            mystr=mystr+s[x]+str(ctr)\n",
    "        ctr=1\n",
    "        x=y\n",
    "        break\n",
    "print(mystr)"
   ]
  },
  {
   "cell_type": "markdown",
   "metadata": {},
   "source": [
    "## Unique Characters in a String"
   ]
  },
  {
   "cell_type": "code",
   "execution_count": 8,
   "metadata": {},
   "outputs": [],
   "source": [
    "def UniqueCharacter(s):\n",
    "    return len(s)==len(set(s))"
   ]
  },
  {
   "cell_type": "code",
   "execution_count": 10,
   "metadata": {},
   "outputs": [
    {
     "data": {
      "text/plain": [
       "False"
      ]
     },
     "execution_count": 10,
     "metadata": {},
     "output_type": "execute_result"
    }
   ],
   "source": [
    "UniqueCharacter('goo')"
   ]
  },
  {
   "cell_type": "code",
   "execution_count": 11,
   "metadata": {},
   "outputs": [
    {
     "data": {
      "text/plain": [
       "True"
      ]
     },
     "execution_count": 11,
     "metadata": {},
     "output_type": "execute_result"
    }
   ],
   "source": [
    "UniqueCharacter('abcdefg')"
   ]
  }
 ],
 "metadata": {
  "kernelspec": {
   "display_name": "Python 3",
   "language": "python",
   "name": "python3"
  },
  "language_info": {
   "codemirror_mode": {
    "name": "ipython",
    "version": 3
   },
   "file_extension": ".py",
   "mimetype": "text/x-python",
   "name": "python",
   "nbconvert_exporter": "python",
   "pygments_lexer": "ipython3",
   "version": "3.7.0"
  }
 },
 "nbformat": 4,
 "nbformat_minor": 2
}
