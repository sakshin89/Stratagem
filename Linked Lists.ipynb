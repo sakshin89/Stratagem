{
 "cells": [
  {
   "cell_type": "markdown",
   "metadata": {},
   "source": [
    "### Singly Linked List - Check it is cycle or not"
   ]
  },
  {
   "cell_type": "code",
   "execution_count": null,
   "metadata": {},
   "outputs": [],
   "source": [
    "class SinglyLinkedList(object):\n",
    "    \n",
    "    def __init__(self,value):\n",
    "        self.value=value\n",
    "        self.next_node=None"
   ]
  },
  {
   "cell_type": "code",
   "execution_count": null,
   "metadata": {},
   "outputs": [],
   "source": [
    "# Cycled Linked List\n",
    "a=SinglyLinkedList(1)\n",
    "b=SinglyLinkedList(2)\n",
    "c=SinglyLinkedList(3)"
   ]
  },
  {
   "cell_type": "code",
   "execution_count": null,
   "metadata": {},
   "outputs": [],
   "source": [
    "a.value\n",
    "b.value\n",
    "c.value"
   ]
  },
  {
   "cell_type": "code",
   "execution_count": null,
   "metadata": {},
   "outputs": [],
   "source": [
    "a.next_node=b\n",
    "b.next_node=c\n",
    "c.next_node=a"
   ]
  },
  {
   "cell_type": "code",
   "execution_count": null,
   "metadata": {},
   "outputs": [],
   "source": [
    "c.next_node.value"
   ]
  },
  {
   "cell_type": "code",
   "execution_count": null,
   "metadata": {},
   "outputs": [],
   "source": [
    "mynodelist=[]\n",
    "mynodelist.append(a.next_node.value)\n",
    "mynodelist.append(b.next_node.value)\n",
    "mynodelist.append(c.next_node.value)"
   ]
  },
  {
   "cell_type": "code",
   "execution_count": null,
   "metadata": {},
   "outputs": [],
   "source": [
    "print(mynodelist)"
   ]
  },
  {
   "cell_type": "code",
   "execution_count": null,
   "metadata": {},
   "outputs": [],
   "source": [
    "def cycle_check(node):\n",
    "    \n",
    "    marker1=node\n",
    "    marker2=node\n",
    "    \n",
    "    while marker2!=None and marker2.next_node!=None:\n",
    "        marker1=marker1.next_node\n",
    "        marker2=marker2.next_node.next_node\n",
    "        print(marker1.value,marker2.value)\n",
    "        if marker1==marker2:\n",
    "            return True\n",
    "    return False"
   ]
  },
  {
   "cell_type": "code",
   "execution_count": null,
   "metadata": {},
   "outputs": [],
   "source": [
    "cycle_check(x)"
   ]
  },
  {
   "cell_type": "code",
   "execution_count": null,
   "metadata": {},
   "outputs": [],
   "source": [
    "# Not Cycled Linked List\n",
    "x=SinglyLinkedList(7)\n",
    "y=SinglyLinkedList(8)\n",
    "z=SinglyLinkedList(9)"
   ]
  },
  {
   "cell_type": "code",
   "execution_count": null,
   "metadata": {},
   "outputs": [],
   "source": [
    "x.next_node=y\n",
    "y.next_node=z"
   ]
  },
  {
   "cell_type": "markdown",
   "metadata": {},
   "source": [
    "### Reverse Singly Linked List"
   ]
  },
  {
   "cell_type": "code",
   "execution_count": null,
   "metadata": {},
   "outputs": [],
   "source": [
    "class ReverseSinglyLinkedList(object):\n",
    "    \n",
    "    def __init__(self,value):\n",
    "        self.value=value\n",
    "        self.next_node=None"
   ]
  },
  {
   "cell_type": "code",
   "execution_count": null,
   "metadata": {},
   "outputs": [],
   "source": [
    "a=ReverseSinglyLinkedList(1)\n",
    "b=ReverseSinglyLinkedList(2)\n",
    "c=ReverseSinglyLinkedList(3)\n",
    "d=ReverseSinglyLinkedList(4)"
   ]
  },
  {
   "cell_type": "code",
   "execution_count": null,
   "metadata": {},
   "outputs": [],
   "source": [
    "a.next_node=b\n",
    "b.next_node=c\n",
    "c.next_node=d"
   ]
  },
  {
   "cell_type": "code",
   "execution_count": null,
   "metadata": {},
   "outputs": [],
   "source": [
    "print(a.next_node.value)\n",
    "print(b.next_node.value)\n",
    "print(c.next_node.value)\n"
   ]
  },
  {
   "cell_type": "code",
   "execution_count": null,
   "metadata": {},
   "outputs": [],
   "source": [
    "d.next_node"
   ]
  },
  {
   "cell_type": "code",
   "execution_count": null,
   "metadata": {},
   "outputs": [],
   "source": [
    "a.value\n",
    "b.value\n",
    "c.value\n",
    "d.value"
   ]
  },
  {
   "cell_type": "code",
   "execution_count": null,
   "metadata": {},
   "outputs": [],
   "source": [
    "def reverse(head):\n",
    "    current=head\n",
    "    nextnode=None\n",
    "    previous=None\n",
    "    #print(marker1.value,marker2.value)\n",
    "    while current:\n",
    "        nextnode=current.next_node\n",
    "        current.next_node=previous\n",
    "        previous=current\n",
    "        current=nextnode\n",
    "        \n",
    "    return previous"
   ]
  },
  {
   "cell_type": "code",
   "execution_count": null,
   "metadata": {},
   "outputs": [],
   "source": [
    "reverse(a)"
   ]
  },
  {
   "cell_type": "code",
   "execution_count": null,
   "metadata": {},
   "outputs": [],
   "source": [
    "print(d.next_node.value)\n",
    "print(b.next_node.value)\n",
    "print(c.next_node.value)"
   ]
  },
  {
   "cell_type": "code",
   "execution_count": null,
   "metadata": {},
   "outputs": [],
   "source": [
    "d.value"
   ]
  },
  {
   "cell_type": "markdown",
   "metadata": {},
   "source": [
    "### Linked List nth to last node - get value of nth node from last"
   ]
  },
  {
   "cell_type": "code",
   "execution_count": null,
   "metadata": {},
   "outputs": [],
   "source": [
    "class NthNodeLinkedList(object):\n",
    "    \n",
    "    def __init__(self,value):\n",
    "        self.value=value\n",
    "        self.next_node=None\n",
    "        \n",
    "a=NthNodeLinkedList(1)\n",
    "b=NthNodeLinkedList(2)\n",
    "c=NthNodeLinkedList(3)\n",
    "d=NthNodeLinkedList(4)\n",
    "e=NthNodeLinkedList(5)\n",
    "f=NthNodeLinkedList(6)\n",
    "\n",
    "a.next_node=b\n",
    "b.next_node=c\n",
    "c.next_node=d\n",
    "d.next_node=e\n",
    "e.next_node=f\n",
    "print(a.value)\n",
    "print(a.next_node.value)\n",
    "print(b.next_node.value)\n",
    "print(c.next_node.value)\n",
    "print(d.next_node.value)\n",
    "print(e.next_node.value)"
   ]
  },
  {
   "cell_type": "code",
   "execution_count": null,
   "metadata": {},
   "outputs": [],
   "source": [
    "def nthNode(n,head):\n",
    "    marker1=head\n",
    "    marker2=head\n",
    "    ctr=1\n",
    "    while marker1.next_node!=None:\n",
    "        if ctr==n:\n",
    "            marker1=marker1.next_node\n",
    "            marker2=marker2.next_node\n",
    "        else:\n",
    "            marker1=marker1.next_node\n",
    "            ctr+=1\n",
    "    print(marker2.value) "
   ]
  },
  {
   "cell_type": "code",
   "execution_count": null,
   "metadata": {},
   "outputs": [],
   "source": [
    "nthNode(5,a)"
   ]
  },
  {
   "cell_type": "markdown",
   "metadata": {},
   "source": [
    "### Reverse Doubly Linked List"
   ]
  },
  {
   "cell_type": "code",
   "execution_count": 1,
   "metadata": {},
   "outputs": [],
   "source": [
    "class DoublyLinkedListNode(object):\n",
    "    \n",
    "    def __init__(self,value):\n",
    "        \n",
    "        self.value = value\n",
    "        self.next_node = None\n",
    "        self.prev_node = None\n",
    "\n",
    "a = DoublyLinkedListNode(1)\n",
    "b = DoublyLinkedListNode(2)\n",
    "c = DoublyLinkedListNode(3)\n",
    "\n",
    "# Setting b after a\n",
    "b.prev_node = a\n",
    "a.next_node = b\n",
    "\n",
    "# Setting c after a\n",
    "b.next_node = c\n",
    "c.prev_node = b"
   ]
  },
  {
   "cell_type": "code",
   "execution_count": null,
   "metadata": {},
   "outputs": [],
   "source": [
    "nextt=a.next_node\n",
    "pr=a.next_node\n",
    "a.next_node=a.prev_node\n",
    "a.prev_node=pr\n"
   ]
  },
  {
   "cell_type": "code",
   "execution_count": null,
   "metadata": {},
   "outputs": [],
   "source": [
    "y=nextt"
   ]
  },
  {
   "cell_type": "code",
   "execution_count": null,
   "metadata": {},
   "outputs": [],
   "source": [
    "nextt=y.next_node\n",
    "pr=y.next_node\n",
    "y.next_node=y.prev_node\n",
    "y.prev_node=pr"
   ]
  },
  {
   "cell_type": "code",
   "execution_count": null,
   "metadata": {},
   "outputs": [],
   "source": [
    "\n",
    "a.prev_node.value"
   ]
  },
  {
   "cell_type": "code",
   "execution_count": null,
   "metadata": {},
   "outputs": [],
   "source": [
    "b.prev_node.value"
   ]
  },
  {
   "cell_type": "code",
   "execution_count": null,
   "metadata": {},
   "outputs": [],
   "source": [
    "c.prev_node.value"
   ]
  },
  {
   "cell_type": "code",
   "execution_count": 2,
   "metadata": {},
   "outputs": [],
   "source": [
    "def reverseDoubly(head):\n",
    "    current=head\n",
    "    while current:\n",
    "        Previous=current.next_node\n",
    "        current.next_node=current.prev_node\n",
    "        current.prev_node=Previous\n",
    "        current=current.prev_node\n",
    "    return(a.prev_node.value)\n",
    "    "
   ]
  },
  {
   "cell_type": "code",
   "execution_count": 3,
   "metadata": {},
   "outputs": [
    {
     "data": {
      "text/plain": [
       "2"
      ]
     },
     "execution_count": 3,
     "metadata": {},
     "output_type": "execute_result"
    }
   ],
   "source": [
    "reverseDoubly(a)"
   ]
  },
  {
   "cell_type": "code",
   "execution_count": 4,
   "metadata": {},
   "outputs": [
    {
     "name": "stdout",
     "output_type": "stream",
     "text": [
      "2\n"
     ]
    }
   ],
   "source": [
    "print(c.next_node.value)"
   ]
  },
  {
   "cell_type": "code",
   "execution_count": null,
   "metadata": {},
   "outputs": [],
   "source": []
  }
 ],
 "metadata": {
  "kernelspec": {
   "display_name": "Python 3",
   "language": "python",
   "name": "python3"
  },
  "language_info": {
   "codemirror_mode": {
    "name": "ipython",
    "version": 3
   },
   "file_extension": ".py",
   "mimetype": "text/x-python",
   "name": "python",
   "nbconvert_exporter": "python",
   "pygments_lexer": "ipython3",
   "version": "3.7.0"
  }
 },
 "nbformat": 4,
 "nbformat_minor": 2
}
