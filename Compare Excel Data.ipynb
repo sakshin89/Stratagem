{
 "cells": [
  {
   "cell_type": "markdown",
   "metadata": {},
   "source": [
    "### Compare data between 2 excel sheets"
   ]
  },
  {
   "cell_type": "code",
   "execution_count": null,
   "metadata": {},
   "outputs": [],
   "source": [
    "import pandas as pd\n",
    "dev=pd.read_excel('UMP dev mar 0331.xlsx')\n",
    "stg=pd.read_excel('UMP stg mar 0331.xlsx')\n",
    "\n",
    "dev.equals(stg)\n",
    "comparison_values = dev.values == stg.values\n",
    "\n",
    "import numpy as np\n",
    "rows,cols=np.where(comparison_values1==False)\n",
    "#print(rows,cols)\n",
    "for item in zip(rows,cols):\n",
    "    if stg.iloc[item[0],0]in exclude_ump:\n",
    "        pass\n",
    "    else:\n",
    "         print(stg.iloc[item[0],0],stg.iloc[0,item[1]],stg.iloc[item[0], item[1]]  )"
   ]
  }
 ],
 "metadata": {
  "kernelspec": {
   "display_name": "Python 3",
   "language": "python",
   "name": "python3"
  },
  "language_info": {
   "codemirror_mode": {
    "name": "ipython",
    "version": 3
   },
   "file_extension": ".py",
   "mimetype": "text/x-python",
   "name": "python",
   "nbconvert_exporter": "python",
   "pygments_lexer": "ipython3",
   "version": "3.7.6"
  }
 },
 "nbformat": 4,
 "nbformat_minor": 4
}
