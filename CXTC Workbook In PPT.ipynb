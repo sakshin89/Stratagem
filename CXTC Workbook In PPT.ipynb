{
 "cells": [
  {
   "cell_type": "markdown",
   "metadata": {},
   "source": [
    "# Make CXTC Folder at current location"
   ]
  },
  {
   "cell_type": "code",
   "execution_count": 1,
   "metadata": {},
   "outputs": [
    {
     "name": "stdout",
     "output_type": "stream",
     "text": [
      "Directory Downloaded Images created\n"
     ]
    }
   ],
   "source": [
    "import os\n",
    "\n",
    "workbook_name='CXTC/'\n",
    "directory='Downloaded Images'\n",
    "p_directory=\"C:/Users/sanagar/Documents/Python Scripts/Python Tableau/\"+workbook_name\n",
    "path=os.path.join(p_directory,directory)\n",
    "os.makedirs(path)\n",
    "print(\"Directory {} created\".format(directory))"
   ]
  },
  {
   "cell_type": "markdown",
   "metadata": {},
   "source": [
    "# Connect with Tableau API\n",
    "### Boiler Plate"
   ]
  },
  {
   "cell_type": "code",
   "execution_count": 2,
   "metadata": {},
   "outputs": [
    {
     "name": "stdout",
     "output_type": "stream",
     "text": [
      "Enter Password:········\n"
     ]
    }
   ],
   "source": [
    "from tableau_api_lib import TableauServerConnection\n",
    "import tableauserverclient as TSC\n",
    "import getpass\n",
    "pwd=getpass.getpass('Enter Password:')\n",
    "tableau_auth = TSC.TableauAuth('sanagar@cisco.com', pwd,site=None,site_id='CAP')\n",
    "server = TSC.Server('https://stg-tableau.cisco.com', True)"
   ]
  },
  {
   "cell_type": "markdown",
   "metadata": {},
   "source": [
    "### Get the name, id of view in workbook"
   ]
  },
  {
   "cell_type": "code",
   "execution_count": 3,
   "metadata": {},
   "outputs": [
    {
     "name": "stdout",
     "output_type": "stream",
     "text": [
      "CXTC Overview\n"
     ]
    }
   ],
   "source": [
    "with server.auth.sign_in(tableau_auth):\n",
    "    all_views, pagination_item = server.views.get()\n",
    "    #print(server.views.baseurl)\n",
    "    # set the image request option\n",
    "    Priority=['High','Medium','Low']\n",
    "    Risk_Status=['Red','Yellow','Green']\n",
    "    \n",
    "\n",
    "    # (optional) set a view filter\n",
    "    #image_req_option.vf('Priority', 'Low')\n",
    "    #image_req_option.vf('Risk Status', 'Yellow')\n",
    "    \n",
    "    #traverse through workbook & views\n",
    "    for view in TSC.Pager(server.views):\n",
    "        #workbook id if for CXTC workbbok id got from this code \n",
    "        #for view in TSC.Pager(server.views):\n",
    "        #if view.name=='CXTC Overview':\n",
    "        #print(view.workbook_id)\n",
    "        if view.workbook_id=='36cd41a4-64ba-49ca-b253-ce4d2a9e3a1e':\n",
    "            if view.id=='ee613d24-cdee-4357-a667-23bbb8c69e1a':\n",
    "                vName=(view.name)\n",
    "                print(vName)\n",
    "                for x in range(0,len(Priority)):\n",
    "                    for y in range(0,len(Risk_Status)):\n",
    "                        image_req_option  = TSC.ImageRequestOptions(None,-1)\n",
    "                        image_req_option.vf('Priority', Priority[x])\n",
    "                        image_req_option.vf('Risk Status', Risk_Status[y])\n",
    "                        # retrieve the image for the view\n",
    "                        server.views.populate_image(view,image_req_option)\n",
    "                        #write & save image\n",
    "                        imageName=vName+'_'+Priority[x]+'_'+Risk_Status[y]\n",
    "                        with open(p_directory+'Downloaded Images/'+imageName+'.png', 'wb') as f:\n",
    "                               f.write(view.image)"
   ]
  },
  {
   "cell_type": "markdown",
   "metadata": {},
   "source": [
    "# Write in PPT"
   ]
  },
  {
   "cell_type": "markdown",
   "metadata": {},
   "source": [
    "### Import Libraries"
   ]
  },
  {
   "cell_type": "code",
   "execution_count": 4,
   "metadata": {},
   "outputs": [],
   "source": [
    "from pptx import Presentation\n",
    "from pptx.util import Inches\n",
    "from datetime import date"
   ]
  },
  {
   "cell_type": "markdown",
   "metadata": {},
   "source": [
    "### Create PPT with First Slide"
   ]
  },
  {
   "cell_type": "code",
   "execution_count": 7,
   "metadata": {},
   "outputs": [],
   "source": [
    "prs=Presentation()\n",
    "title_slide_layout=prs.slide_layouts[0]\n",
    "slide=prs.slides.add_slide(title_slide_layout)\n",
    "title=slide.shapes.title\n",
    "subtitle=slide.placeholders[1]\n",
    "\n",
    "title.text=vName\n",
    "subtitle.text='Sakshi Nagar '+'\\n'+date.today().strftime(\"%B %d, %Y\")\n",
    "\n",
    "prs.save(p_directory+vName+'.pptx')"
   ]
  },
  {
   "cell_type": "markdown",
   "metadata": {},
   "source": [
    "### Add all downlaoded images to PPT"
   ]
  },
  {
   "cell_type": "code",
   "execution_count": 8,
   "metadata": {},
   "outputs": [
    {
     "name": "stdout",
     "output_type": "stream",
     "text": [
      "9\n"
     ]
    }
   ],
   "source": [
    "#loop to attach all images in a folder \n",
    "import os\n",
    "import shutil\n",
    "\n",
    "path=p_directory+'Downloaded Images/'\n",
    "#below statement prints number of items in specifieed path above\n",
    "numberOfImages=(len(os.listdir(path)))\n",
    "print(numberOfImages)\n",
    "for x in range(0,numberOfImages):\n",
    "    #(os.listdir(path))[x]) gives name of each item one by one and appends that in above mentioned path\n",
    "    img_path=(path+((os.listdir(path))[x]))\n",
    "    formateachSlideTitle=(os.listdir(path))[x].replace('_',' ')\n",
    "    prs=Presentation(p_directory+vName+'.pptx')\n",
    "    blank_slide_layout=prs.slide_layouts[5]\n",
    "    slide=prs.slides.add_slide(blank_slide_layout)\n",
    "    \n",
    "    title=slide.shapes.title\n",
    "    title.text=formateachSlideTitle.replace(\".png\",'.')\n",
    "    title.left=Inches(0.5)\n",
    "    title.top=Inches(0.09)\n",
    "    title.height=Inches(0.43)\n",
    "    title.width=Inches(9)\n",
    "    left=Inches(0.1)\n",
    "    top=Inches(.61)\n",
    "    height=Inches(9.77)\n",
    "    width=Inches(6.89)\n",
    "\n",
    "    pic=slide.shapes.add_picture(img_path,left,top,height,width)\n",
    "    prs.save(p_directory+vName+'.pptx')"
   ]
  }
 ],
 "metadata": {
  "kernelspec": {
   "display_name": "Python 3",
   "language": "python",
   "name": "python3"
  },
  "language_info": {
   "codemirror_mode": {
    "name": "ipython",
    "version": 3
   },
   "file_extension": ".py",
   "mimetype": "text/x-python",
   "name": "python",
   "nbconvert_exporter": "python",
   "pygments_lexer": "ipython3",
   "version": "3.7.6"
  }
 },
 "nbformat": 4,
 "nbformat_minor": 2
}
