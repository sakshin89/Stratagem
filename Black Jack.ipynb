{
 "cells": [
  {
   "cell_type": "code",
   "execution_count": null,
   "metadata": {},
   "outputs": [],
   "source": [
    "import random\n",
    "num_list=['TWO','THRE','FOUR','FIVE','SIX','SEVEN','EIGHT','NINE','TEN','JACK','QUEEN','KING','ACE']\n",
    "suit_list=['Spades','Hearts','Diamond','Clubs']\n",
    "deck=[]\n",
    "for n in num_list:\n",
    "        for s in suit_list:\n",
    "            deck.append(n+' of '+s)\n",
    "random.shuffle(deck)\n",
    "deck\n",
    "#c=deck[random.randint(0,len(deck))]\n",
    "c=deck.pop()\n",
    "print(c)\n",
    "print(c.split()[0])\n",
    "v=(c.split()[0])\n",
    "v\n"
   ]
  },
  {
   "cell_type": "code",
   "execution_count": null,
   "metadata": {},
   "outputs": [],
   "source": [
    "deck.remove(c)"
   ]
  },
  {
   "cell_type": "code",
   "execution_count": null,
   "metadata": {},
   "outputs": [],
   "source": [
    "len(deck)"
   ]
  },
  {
   "cell_type": "code",
   "execution_count": null,
   "metadata": {},
   "outputs": [],
   "source": [
    "num_list=['Ace','TWO','THRE','FOUR','FIVE','SIX','SEVEN','EIGHT','NINE','TEN','JACK','QUEEN','KING']\n",
    "values1={}\n",
    "values={}\n",
    "i=1\n",
    "for n in num_list:\n",
    "    if i!=10:\n",
    "        values1[n]=i\n",
    "        i+=1\n",
    "    else:\n",
    "        values1[n]=i\n",
    "values1"
   ]
  },
  {
   "cell_type": "code",
   "execution_count": null,
   "metadata": {
    "collapsed": true
   },
   "outputs": [],
   "source": [
    "values1\n",
    "values1[v]\n",
    "values1[(c.split()[0])]"
   ]
  },
  {
   "cell_type": "code",
   "execution_count": null,
   "metadata": {},
   "outputs": [],
   "source": [
    "class valclass():\n",
    "    def __init__(self):\n",
    "        self.num_list=['Ace','TWO','THRE','FOUR','FIVE','SIX','SEVEN','EIGHT','NINE','TEN','JACK','QUEEN','KING']\n",
    "        self.values={}\n",
    "    def val(self): \n",
    "        i=1\n",
    "        for n in self.num_list:\n",
    "            if i!=10:\n",
    "                self.values[n]=i\n",
    "                i+=1\n",
    "            else:\n",
    "                self.values[n]=i\n",
    "        print(self.values)"
   ]
  },
  {
   "cell_type": "code",
   "execution_count": null,
   "metadata": {
    "collapsed": true
   },
   "outputs": [],
   "source": [
    "v=valclass()"
   ]
  },
  {
   "cell_type": "code",
   "execution_count": null,
   "metadata": {},
   "outputs": [],
   "source": [
    "v.val()"
   ]
  },
  {
   "cell_type": "code",
   "execution_count": null,
   "metadata": {},
   "outputs": [],
   "source": [
    "global x\n",
    "def foo():\n",
    "    x=['d','f']\n",
    "    print(x)\n",
    "foo()"
   ]
  },
  {
   "cell_type": "code",
   "execution_count": null,
   "metadata": {},
   "outputs": [],
   "source": [
    "num_list=['Ace','TWO','THRE','FOUR','FIVE','SIX','SEVEN','EIGHT','NINE','TEN','JACK','QUEEN','KING']\n",
    "def vall(x):\n",
    "    values={}\n",
    "    i=1\n",
    "    for n in num_list:\n",
    "        if i!=10:\n",
    "            values[n]=i\n",
    "            i+=1\n",
    "        else:\n",
    "            values[n]=i\n",
    "    print(values)\n",
    "    print(values[x.upper()])\n",
    "    #print(self.sumof)\n"
   ]
  },
  {
   "cell_type": "code",
   "execution_count": null,
   "metadata": {
    "collapsed": true
   },
   "outputs": [],
   "source": [
    "def comput(p1):\n",
    "        sumof=0\n",
    "        for p in p1:\n",
    "            print(p)\n",
    "            x=p.split()[0]\n",
    "            print(x)\n",
    "            vall(x)"
   ]
  },
  {
   "cell_type": "code",
   "execution_count": null,
   "metadata": {},
   "outputs": [],
   "source": [
    "p2=['Two of Spades','Ten of Spades']\n",
    "comput(p2)"
   ]
  },
  {
   "cell_type": "code",
   "execution_count": null,
   "metadata": {},
   "outputs": [],
   "source": [
    "p2"
   ]
  },
  {
   "cell_type": "code",
   "execution_count": 1,
   "metadata": {},
   "outputs": [
    {
     "name": "stdout",
     "output_type": "stream",
     "text": [
      "1\n",
      "2\n"
     ]
    }
   ],
   "source": [
    "for x in range(1,3):\n",
    "    print(x)"
   ]
  },
  {
   "cell_type": "code",
   "execution_count": null,
   "metadata": {
    "collapsed": true
   },
   "outputs": [],
   "source": []
  }
 ],
 "metadata": {
  "kernelspec": {
   "display_name": "Python 3",
   "language": "python",
   "name": "python3"
  },
  "language_info": {
   "codemirror_mode": {
    "name": "ipython",
    "version": 3
   },
   "file_extension": ".py",
   "mimetype": "text/x-python",
   "name": "python",
   "nbconvert_exporter": "python",
   "pygments_lexer": "ipython3",
   "version": "3.7.0"
  }
 },
 "nbformat": 4,
 "nbformat_minor": 2
}
