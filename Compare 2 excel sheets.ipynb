{
 "cells": [
  {
   "cell_type": "markdown",
   "metadata": {},
   "source": [
    "# Comparison of 2 excel"
   ]
  },
  {
   "cell_type": "markdown",
   "metadata": {},
   "source": [
    "### Boiler Plate"
   ]
  },
  {
   "cell_type": "markdown",
   "metadata": {},
   "source": [
    "import pandas as pd\n",
    "\n",
    "//get the sheets in respective data frames\n",
    "df1=pd.read_excel('Product_Category_Jan.xlsx')\n",
    "df2=pd.read_excel('Product_Category_Feb.xlsx')\n",
    "\n",
    "Comparison will check 3 things\n",
    "Basically, it checks for the following three things between two dataframe:\n",
    "\n",
    "a) They have the same types and values for their elements and column labels b) They have the same element types and values, but have different types for the column labels c) They have different types for the same values for their elements\n",
    "\n",
    "\n",
    "df1.equals(df2)\n",
    "comparison_values = df1.values == df2.values\n",
    "\n",
    "//this will print TRUE or Flase in tabluar structure. False for the cells where value or type does not match\n",
    "print (comparison_values)\n",
    "\n",
    "\n",
    "// Find the index of cells where value did not match\n",
    "\n",
    "import numpy as np\n",
    "rows,cols=np.where(comparison_values==False)\n",
    "\n",
    "\n",
    "\n",
    "for item in zip(rows,cols):\n",
    "    //below line of code will replace old value to new value\n",
    "    df1.iloc[item[0], item[1]] = '{} --> {}'.format(df1.iloc[item[0], item[1]],df2.iloc[item[0], item[1]])\n",
    "//this will export replaced data frame into excel\n",
    "df1.to_excel('./Excel_diff.xlsx',index=False,header=True)"
   ]
  },
  {
   "cell_type": "markdown",
   "metadata": {},
   "source": [
    "## My Project of comparing excel"
   ]
  },
  {
   "cell_type": "code",
   "execution_count": null,
   "metadata": {},
   "outputs": [],
   "source": [
    "import pandas as pd\n",
    "df1=pd.read_excel('Book1.xlsx')\n",
    "df2=pd.read_excel('Book2.xlsx')"
   ]
  },
  {
   "cell_type": "code",
   "execution_count": null,
   "metadata": {},
   "outputs": [],
   "source": [
    "df1.equals(df2)\n",
    "comparison_values = df1.values == df2.values"
   ]
  },
  {
   "cell_type": "code",
   "execution_count": null,
   "metadata": {},
   "outputs": [],
   "source": [
    "print (comparison_values)"
   ]
  },
  {
   "cell_type": "code",
   "execution_count": null,
   "metadata": {},
   "outputs": [],
   "source": [
    "import numpy as np\n",
    "rows,cols=np.where(comparison_values==False)\n",
    "#print(rows,cols)\n",
    "for item in zip(rows,cols):\n",
    "    \n",
    "    print(df2.iloc[item[0],0],df2.iloc[0,item[1]],df2.iloc[item[0], item[1]]  )\n",
    "\n",
    "#df1.to_excel('./Excel_diff.xlsx',index=False,header=True)"
   ]
  },
  {
   "cell_type": "markdown",
   "metadata": {},
   "source": [
    "### UMPIRE"
   ]
  },
  {
   "cell_type": "code",
   "execution_count": 4,
   "metadata": {},
   "outputs": [],
   "source": [
    "import pandas as pd\n",
    "dev=pd.read_excel('UMP dev mar 0331.xlsx')\n",
    "dev2=pd.read_excel('UMP stg mar 0331.xlsx')"
   ]
  },
  {
   "cell_type": "code",
   "execution_count": 5,
   "metadata": {},
   "outputs": [],
   "source": [
    "dev.equals(dev2)\n",
    "comparison_values1 = dev.values == dev2.values"
   ]
  },
  {
   "cell_type": "code",
   "execution_count": 8,
   "metadata": {},
   "outputs": [
    {
     "name": "stdout",
     "output_type": "stream",
     "text": [
      "[[ True  True  True  True  True  True  True  True]\n",
      " [ True  True  True  True  True  True  True  True]\n",
      " [ True  True  True  True  True  True  True  True]\n",
      " [ True  True  True  True  True  True  True  True]\n",
      " [ True  True  True  True  True  True  True  True]\n",
      " [ True False False False False  True  True  True]\n",
      " [ True False False False False  True  True  True]\n",
      " [ True False False False False  True  True  True]\n",
      " [ True False  True False False  True  True  True]\n",
      " [ True  True  True  True  True  True  True  True]\n",
      " [ True  True  True  True  True  True  True  True]\n",
      " [ True  True  True  True  True  True  True  True]\n",
      " [ True False False False False  True  True False]\n",
      " [ True  True  True  True  True  True  True  True]\n",
      " [ True  True  True  True  True  True  True  True]\n",
      " [ True False  True False False  True  True  True]\n",
      " [ True  True  True  True  True  True  True  True]\n",
      " [ True  True  True  True  True  True  True  True]\n",
      " [ True  True  True  True  True  True  True  True]\n",
      " [ True  True  True  True  True  True  True  True]\n",
      " [ True  True  True  True  True  True  True  True]\n",
      " [ True False  True False False  True  True  True]\n",
      " [ True  True  True  True  True  True  True  True]\n",
      " [ True  True  True  True  True  True  True  True]\n",
      " [ True  True  True  True  True  True  True  True]\n",
      " [ True  True  True  True  True  True  True  True]\n",
      " [ True  True  True  True  True  True  True  True]\n",
      " [ True  True  True  True  True  True  True  True]\n",
      " [ True  True  True  True  True  True  True  True]\n",
      " [ True  True  True  True  True  True  True  True]\n",
      " [ True  True  True  True  True  True  True  True]\n",
      " [ True  True  True  True  True  True  True  True]\n",
      " [ True  True  True  True  True  True  True  True]\n",
      " [ True False False False False  True  True  True]\n",
      " [ True  True  True  True  True  True  True  True]]\n"
     ]
    }
   ],
   "source": [
    "print (comparison_values1)"
   ]
  },
  {
   "cell_type": "code",
   "execution_count": 6,
   "metadata": {},
   "outputs": [],
   "source": [
    "exclude_ump=['UMP01140406','UMP01126243','UMP01059752','UMP01208547','UMP01191213','UMP01036390','UMP01039579','UMP01030515']"
   ]
  },
  {
   "cell_type": "code",
   "execution_count": 9,
   "metadata": {
    "scrolled": true
   },
   "outputs": [],
   "source": [
    "import numpy as np\n",
    "rows,cols=np.where(comparison_values1==False)\n",
    "#print(rows,cols)\n",
    "for item in zip(rows,cols):\n",
    "    if dev2.iloc[item[0],0]in exclude_ump:\n",
    "        pass\n",
    "    else:\n",
    "         print(dev2.iloc[item[0],0],dev2.iloc[0,item[1]],dev2.iloc[item[0], item[1]]  )"
   ]
  },
  {
   "cell_type": "markdown",
   "metadata": {},
   "source": [
    "### practse\n"
   ]
  },
  {
   "cell_type": "code",
   "execution_count": null,
   "metadata": {},
   "outputs": [],
   "source": [
    "import pandas as pd\n",
    "mydf=pd.read_excel('devstg UMP List.xlsx')"
   ]
  },
  {
   "cell_type": "code",
   "execution_count": null,
   "metadata": {},
   "outputs": [],
   "source": [
    "mar=[]\n",
    "his=[]\n",
    "feb=[]\n",
    "for x in range(0,len(mydf)):\n",
    "    mar.append(mydf.iloc[x,0])\n",
    "    his.append(mydf.iloc[x,1])\n",
    "    feb.append(mydf.iloc[x,2])"
   ]
  },
  {
   "cell_type": "code",
   "execution_count": null,
   "metadata": {},
   "outputs": [],
   "source": [
    "for y in range (0,len(his)):\n",
    "    if (his[y] in mar) and (his[y] in feb):\n",
    "        print (his[y])\n",
    "        "
   ]
  },
  {
   "cell_type": "code",
   "execution_count": null,
   "metadata": {},
   "outputs": [],
   "source": [
    "for x in range (0,len(dev)):\n",
    "    if dev[x] not in stg:\n",
    "        print (dev[x])"
   ]
  },
  {
   "cell_type": "code",
   "execution_count": 1,
   "metadata": {},
   "outputs": [],
   "source": [
    "#compare no of UMP in dev and stage\n",
    "import pandas as pd\n",
    "mydf=pd.read_excel('devstg UMP List.xlsx')\n",
    "dev=[]\n",
    "stg=[]\n",
    "for x in range(0,len(mydf)):\n",
    "    dev.append(mydf.iloc[x,0])\n",
    "    stg.append(mydf.iloc[x,1])"
   ]
  },
  {
   "cell_type": "code",
   "execution_count": 2,
   "metadata": {},
   "outputs": [
    {
     "name": "stdout",
     "output_type": "stream",
     "text": [
      "UMP01026176\n",
      "UMP01221247\n",
      "UMP01220698\n",
      "UMP01220699\n",
      "UMP01026128\n",
      "UMP01199340\n",
      "UMP01040684\n",
      "UMP01220116\n",
      "UMP01219915\n"
     ]
    }
   ],
   "source": [
    "# present in stage but not in dev\n",
    "for y in range (0,len(stg)):\n",
    "    if (stg[y] not in dev):\n",
    "        print (stg[y])"
   ]
  },
  {
   "cell_type": "code",
   "execution_count": 3,
   "metadata": {},
   "outputs": [
    {
     "name": "stdout",
     "output_type": "stream",
     "text": [
      "UMP01219500\n",
      "UMP01219420\n",
      "UMP01219421\n",
      "nan\n",
      "nan\n",
      "nan\n",
      "nan\n",
      "nan\n",
      "nan\n"
     ]
    }
   ],
   "source": [
    "# present in dev but not in stg\n",
    "for x in range (0,len(dev)):\n",
    "    if (dev[x] not in stg):\n",
    "        print (dev[x])"
   ]
  },
  {
   "cell_type": "code",
   "execution_count": null,
   "metadata": {},
   "outputs": [],
   "source": []
  }
 ],
 "metadata": {
  "kernelspec": {
   "display_name": "Python 3",
   "language": "python",
   "name": "python3"
  },
  "language_info": {
   "codemirror_mode": {
    "name": "ipython",
    "version": 3
   },
   "file_extension": ".py",
   "mimetype": "text/x-python",
   "name": "python",
   "nbconvert_exporter": "python",
   "pygments_lexer": "ipython3",
   "version": "3.7.6"
  }
 },
 "nbformat": 4,
 "nbformat_minor": 4
}
